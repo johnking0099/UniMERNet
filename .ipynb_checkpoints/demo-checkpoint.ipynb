{
 "cells": [
  {
   "cell_type": "markdown",
   "metadata": {},
   "source": [
    "### 1. Image processing class: accepts formula images, outputs LaTeX code and rendered images.\n"
   ]
  },
  {
   "cell_type": "code",
   "execution_count": 1,
   "metadata": {},
   "outputs": [
    {
     "name": "stderr",
     "output_type": "stream",
     "text": [
      "/Users/bin/anaconda3/envs/unimernetv2_pip/lib/python3.10/site-packages/tqdm/auto.py:21: TqdmWarning: IProgress not found. Please update jupyter and ipywidgets. See https://ipywidgets.readthedocs.io/en/stable/user_install.html\n",
      "  from .autonotebook import tqdm as notebook_tqdm\n",
      "/Users/bin/anaconda3/envs/unimernetv2_pip/lib/python3.10/site-packages/torchtext/data/__init__.py:4: UserWarning: \n",
      "/!\\ IMPORTANT WARNING ABOUT TORCHTEXT STATUS /!\\ \n",
      "Torchtext is deprecated and the last released version will be 0.18 (this one). You can silence this warning by calling the following at the beginnign of your scripts: `import torchtext; torchtext.disable_torchtext_deprecation_warning()`\n",
      "  warnings.warn(torchtext._TORCHTEXT_DEPRECATION_MSG)\n"
     ]
    }
   ],
   "source": [
    "import argparse\n",
    "import os\n",
    "import random\n",
    "import sys\n",
    "\n",
    "from IPython.display import display, Math\n",
    "from PIL import Image\n",
    "from rich import print as rprint\n",
    "from rich.panel import Panel\n",
    "from rich.rule import Rule\n",
    "from rich.table import Table\n",
    "from termcolor import colored\n",
    "import torch\n",
    "\n",
    "sys.path.insert(0, os.path.join(os.getcwd(), \"..\"))\n",
    "from unimernet.common.config import Config\n",
    "from unimernet.datasets.builders import *\n",
    "from unimernet.models import *\n",
    "from unimernet.processors import *\n",
    "import unimernet.tasks as tasks\n",
    "from unimernet.processors import load_processor\n",
    "\n",
    "class ImageProcessor:\n",
    "    \n",
    "    def __init__(self, cfg_path, image_dir):\n",
    "        self.cfg_path = cfg_path\n",
    "        self.image_dir = image_dir\n",
    "        self.device = torch.device(\"cuda\" if torch.cuda.is_available() else \"cpu\")\n",
    "        self.model, self.vis_processor = self.load_model_and_processor()\n",
    "\n",
    "    def load_model_and_processor(self):\n",
    "        args = argparse.Namespace(cfg_path=self.cfg_path, options=None)\n",
    "        cfg = Config(args)\n",
    "        task = tasks.setup_task(cfg)\n",
    "        model = task.build_model(cfg).to(self.device)\n",
    "        vis_processor = load_processor('formula_image_eval', cfg.config.datasets.formula_rec_eval.vis_processor.eval)\n",
    "\n",
    "        return model, vis_processor\n",
    "\n",
    "    def process_single_image(self, image_path):\n",
    "        try:\n",
    "            raw_image = Image.open(image_path)\n",
    "        except IOError:\n",
    "            print(f\"Error: Unable to open image at {image_path}\")\n",
    "            return\n",
    "\n",
    "        resized_image = self.resize_image(raw_image)\n",
    "        image = self.vis_processor(raw_image).unsqueeze(0).to(self.device)\n",
    "        output = self.model.generate({\"image\": image})\n",
    "        pred = output[\"pred_str\"][0]\n",
    "        self.print_result(0, image_path, resized_image, pred)\n",
    "        rprint(Rule(style=\"black\"))\n",
    "\n",
    "    def process_images(self):\n",
    "        image_names = os.listdir(self.image_dir)\n",
    "        image_paths = [os.path.join(self.image_dir, name) for name in image_names]\n",
    "\n",
    "        for id, image_path in enumerate(image_paths):\n",
    "            raw_image = Image.open(image_path)\n",
    "            resized_image = self.resize_image(raw_image)\n",
    "            image = self.vis_processor(raw_image).unsqueeze(0).to(self.device)\n",
    "            output = self.model.generate({\"image\": image})\n",
    "            pred = output[\"pred_str\"][0]\n",
    "            self.print_result(id, image_path, resized_image, pred)\n",
    "            rprint(Rule(style=\"black\"))\n",
    "\n",
    "    @staticmethod\n",
    "    def resize_image(image, max_len=600):\n",
    "        width, height = image.size\n",
    "        if max(width, height) > max_len :\n",
    "            if width > height:\n",
    "                scale = float(max_len) / width\n",
    "                width = max_len\n",
    "                height = int(height * scale)\n",
    "            else:\n",
    "                scale = float(max_len) / height\n",
    "                height = max_len\n",
    "                width = int(width * scale)\n",
    "\n",
    "        return image.resize((width, height))\n",
    "\n",
    "    @staticmethod\n",
    "    def print_result(id, image_path, raw_image, pred):\n",
    "        colors = ['red', 'green', 'yellow', 'blue', 'magenta', 'cyan']\n",
    "        chosen_color = random.choice(colors)\n",
    "\n",
    "        table = Table(show_header=True, header_style=chosen_color)\n",
    "        table.add_column(\"Sample ID\", style=\"dim\", width=12)\n",
    "        table.add_column(\"Image Path\", style=\"dim\", width=80)\n",
    "        table.add_row(str(id), image_path)\n",
    "        rprint(table)\n",
    "        print(colored(f\"{id}_1: Source image\", chosen_color), end=\" \")\n",
    "        display(raw_image)\n",
    "        print(colored(f'{id}_2: Rendered image from LaTeX', chosen_color), end=\" \")\n",
    "        render_katex(pred)\n",
    "        print(colored(f'{id}_3: Predicted LaTeX code', chosen_color), end=\" \")\n",
    "        pred_text_panel = Panel.fit(pred, title=\"Predicted LaTeX\", border_style=chosen_color)\n",
    "        rprint(pred_text_panel)\n",
    "\n",
    "def render_katex(latex_string, show=True):\n",
    "    display(Math(latex_string))\n"
   ]
  },
  {
   "cell_type": "code",
   "execution_count": 2,
   "metadata": {},
   "outputs": [
    {
     "name": "stderr",
     "output_type": "stream",
     "text": [
      "/Users/bin/anaconda3/envs/unimernetv2_pip/lib/python3.10/site-packages/transformers/models/auto/image_processing_auto.py:510: FutureWarning: The image_processor_class argument is deprecated and will be removed in v4.42. Please use `slow_image_processor_class`, or `fast_image_processor_class` instead\n",
      "  warnings.warn(\n"
     ]
    },
    {
     "name": "stdout",
     "output_type": "stream",
     "text": [
      "CustomVisionEncoderDecoderModel init\n",
      "VariableUnimerNetModel init\n",
      "VariableUnimerNetPatchEmbeddings init\n",
      "VariableUnimerNetModel init\n",
      "VariableUnimerNetPatchEmbeddings init\n",
      "CustomMBartForCausalLM init\n",
      "CustomMBartDecoder init\n"
     ]
    },
    {
     "name": "stderr",
     "output_type": "stream",
     "text": [
      "/Users/bin/anaconda3/envs/unimernetv2_pip/lib/python3.10/site-packages/transformers/generation/configuration_utils.py:540: UserWarning: `do_sample` is set to `False`. However, `temperature` is set to `0.2` -- this flag is only used in sample-based generation modes. You should set `do_sample=True` or unset `temperature`.\n",
      "  warnings.warn(\n",
      "/Users/bin/anaconda3/envs/unimernetv2_pip/lib/python3.10/site-packages/transformers/generation/configuration_utils.py:545: UserWarning: `do_sample` is set to `False`. However, `top_p` is set to `0.95` -- this flag is only used in sample-based generation modes. You should set `do_sample=True` or unset `top_p`.\n",
      "  warnings.warn(\n"
     ]
    },
    {
     "data": {
      "text/html": [
       "<pre style=\"white-space:pre;overflow-x:auto;line-height:normal;font-family:Menlo,'DejaVu Sans Mono',consolas,'Courier New',monospace\">┏━━━━━━━━━━━━━━┳━━━━━━━━━━━━━━━━━━━━━━━━━━━━━━━━━━━━━━━━━━━━━━━━━━━━━━━━━━━━━━━━━━━━━━━━━━━━━━━━━━┓\n",
       "┃<span style=\"color: #000080; text-decoration-color: #000080\"> Sample ID    </span>┃<span style=\"color: #000080; text-decoration-color: #000080\"> Image Path                                                                       </span>┃\n",
       "┡━━━━━━━━━━━━━━╇━━━━━━━━━━━━━━━━━━━━━━━━━━━━━━━━━━━━━━━━━━━━━━━━━━━━━━━━━━━━━━━━━━━━━━━━━━━━━━━━━━┩\n",
       "│<span style=\"color: #7f7f7f; text-decoration-color: #7f7f7f\"> 0            </span>│<span style=\"color: #7f7f7f; text-decoration-color: #7f7f7f\"> /Users/bin/code/GoGoGo/UniMERNet/asset/test_imgs/0000001.png                     </span>│\n",
       "└──────────────┴──────────────────────────────────────────────────────────────────────────────────┘\n",
       "</pre>\n"
      ],
      "text/plain": [
       "┏━━━━━━━━━━━━━━┳━━━━━━━━━━━━━━━━━━━━━━━━━━━━━━━━━━━━━━━━━━━━━━━━━━━━━━━━━━━━━━━━━━━━━━━━━━━━━━━━━━┓\n",
       "┃\u001b[34m \u001b[0m\u001b[34mSample ID   \u001b[0m\u001b[34m \u001b[0m┃\u001b[34m \u001b[0m\u001b[34mImage Path                                                                      \u001b[0m\u001b[34m \u001b[0m┃\n",
       "┡━━━━━━━━━━━━━━╇━━━━━━━━━━━━━━━━━━━━━━━━━━━━━━━━━━━━━━━━━━━━━━━━━━━━━━━━━━━━━━━━━━━━━━━━━━━━━━━━━━┩\n",
       "│\u001b[2m \u001b[0m\u001b[2m0           \u001b[0m\u001b[2m \u001b[0m│\u001b[2m \u001b[0m\u001b[2m/Users/bin/code/GoGoGo/UniMERNet/asset/test_imgs/0000001.png                    \u001b[0m\u001b[2m \u001b[0m│\n",
       "└──────────────┴──────────────────────────────────────────────────────────────────────────────────┘\n"
      ]
     },
     "metadata": {},
     "output_type": "display_data"
    },
    {
     "name": "stdout",
     "output_type": "stream",
     "text": [
      "\u001b[34m0_1: Source image\u001b[0m "
     ]
    },
    {
     "data": {
      "image/jpeg": "[encoded data removed]",
      "image/png": "[encoded data removed]",
      "text/plain": [
       "<PIL.Image.Image image mode=L size=600x136>"
      ]
     },
     "metadata": {},
     "output_type": "display_data"
    },
    {
     "name": "stdout",
     "output_type": "stream",
     "text": [
      "\u001b[34m0_2: Rendered image from LaTeX\u001b[0m "
     ]
    },
    {
     "data": {
      "text/latex": [
       "$\\displaystyle \\begin{array} { r l } { \\mathrm { M i n i m i s e ~ } } & { { } J ( u . ; s , y ) = \\mathbb { E } \\left[ \\int _ { s } ^ { T } \\left( u _ { t } ^ { 2 } + 1 \\right) d t - \\ln \\left( \\cosh \\left( X _ { T } \\right) \\right) \\right] } \\\\ { \\mathrm { s u b j e c t ~ t o ~ } } & { { } \\left\\{ \\begin{array} { l l } { d X _ { t } = 2 u _ { t } d t + \\sqrt { 2 } d W _ { t } , t \\in [ s , T ] } \\\\ { X _ { s } = y } \\\\ { u _ { t } \\in [ - 1 , 1 ] , \\quad t \\in [ s , T ] } \\end{array} \\right. } \\end{array}$"
      ],
      "text/plain": [
       "<IPython.core.display.Math object>"
      ]
     },
     "metadata": {},
     "output_type": "display_data"
    },
    {
     "name": "stdout",
     "output_type": "stream",
     "text": [
      "\u001b[34m0_3: Predicted LaTeX code\u001b[0m "
     ]
    },
    {
     "data": {
      "text/html": [
       "<pre style=\"white-space:pre;overflow-x:auto;line-height:normal;font-family:Menlo,'DejaVu Sans Mono',consolas,'Courier New',monospace\"><span style=\"color: #000080; text-decoration-color: #000080\">╭──────────────────────────────────────────────── Predicted LaTeX ────────────────────────────────────────────────╮</span>\n",
       "<span style=\"color: #000080; text-decoration-color: #000080\">│</span> \\begin{array} { r l } { \\mathrm { M i n i m i s e ~ } } &amp; { { } J ( u . ; s , y ) = \\mathbb { E } \\left[ \\int _ <span style=\"color: #000080; text-decoration-color: #000080\">│</span>\n",
       "<span style=\"color: #000080; text-decoration-color: #000080\">│</span> { s } ^ { T } \\left( u _ { t } ^ { 2 } + 1 \\right) d t - \\ln \\left( \\cosh \\left( X _ { T } \\right) \\right)      <span style=\"color: #000080; text-decoration-color: #000080\">│</span>\n",
       "<span style=\"color: #000080; text-decoration-color: #000080\">│</span> \\right] } \\\\ { \\mathrm { s u b j e c t ~ t o ~ } } &amp; { { } \\left\\{ \\begin{array} { l l } { d X _ { t } = 2 u _  <span style=\"color: #000080; text-decoration-color: #000080\">│</span>\n",
       "<span style=\"color: #000080; text-decoration-color: #000080\">│</span> { t } d t + \\sqrt { 2 } d W _ { t } , t \\in [ s , T ] } \\\\ { X _ { s } = y } \\\\ { u _ { t } \\in [ - 1 , 1 ] ,   <span style=\"color: #000080; text-decoration-color: #000080\">│</span>\n",
       "<span style=\"color: #000080; text-decoration-color: #000080\">│</span> \\quad t \\in [ s , T ] } \\end{array} \\right. } \\end{array}                                                       <span style=\"color: #000080; text-decoration-color: #000080\">│</span>\n",
       "<span style=\"color: #000080; text-decoration-color: #000080\">╰─────────────────────────────────────────────────────────────────────────────────────────────────────────────────╯</span>\n",
       "</pre>\n"
      ],
      "text/plain": [
       "\u001b[34m╭─\u001b[0m\u001b[34m───────────────────────────────────────────────\u001b[0m\u001b[34m Predicted LaTeX \u001b[0m\u001b[34m───────────────────────────────────────────────\u001b[0m\u001b[34m─╮\u001b[0m\n",
       "\u001b[34m│\u001b[0m \\begin{array} { r l } { \\mathrm { M i n i m i s e ~ } } & { { } J ( u . ; s , y ) = \\mathbb { E } \\left[ \\int _ \u001b[34m│\u001b[0m\n",
       "\u001b[34m│\u001b[0m { s } ^ { T } \\left( u _ { t } ^ { 2 } + 1 \\right) d t - \\ln \\left( \\cosh \\left( X _ { T } \\right) \\right)      \u001b[34m│\u001b[0m\n",
       "\u001b[34m│\u001b[0m \\right] } \\\\ { \\mathrm { s u b j e c t ~ t o ~ } } & { { } \\left\\{ \\begin{array} { l l } { d X _ { t } = 2 u _  \u001b[34m│\u001b[0m\n",
       "\u001b[34m│\u001b[0m { t } d t + \\sqrt { 2 } d W _ { t } , t \\in [ s , T ] } \\\\ { X _ { s } = y } \\\\ { u _ { t } \\in [ - 1 , 1 ] ,   \u001b[34m│\u001b[0m\n",
       "\u001b[34m│\u001b[0m \\quad t \\in [ s , T ] } \\end{array} \\right. } \\end{array}                                                       \u001b[34m│\u001b[0m\n",
       "\u001b[34m╰─────────────────────────────────────────────────────────────────────────────────────────────────────────────────╯\u001b[0m\n"
      ]
     },
     "metadata": {},
     "output_type": "display_data"
    },
    {
     "data": {
      "text/html": [
       "<pre style=\"white-space:pre;overflow-x:auto;line-height:normal;font-family:Menlo,'DejaVu Sans Mono',consolas,'Courier New',monospace\"><span style=\"color: #000000; text-decoration-color: #000000\">───────────────────────────────────────────────────────────────────────────────────────────────────────────────────</span>\n",
       "</pre>\n"
      ],
      "text/plain": [
       "\u001b[30m───────────────────────────────────────────────────────────────────────────────────────────────────────────────────\u001b[0m\n"
      ]
     },
     "metadata": {},
     "output_type": "display_data"
    }
   ],
   "source": [
    "root_path = os.path.abspath(os.getcwd())\n",
    "config_path = os.path.join(root_path, \"configs/demo.yaml\")\n",
    "image_directory = os.path.join(root_path, \"asset/test_imgs\")\n",
    "\n",
    "processor = ImageProcessor(config_path, image_directory)\n",
    "\n",
    "# Process a single image located at the specified path\n",
    "processor.process_single_image(os.path.join(image_directory, '0000001.png'))\n",
    "\n",
    "# Uncomment the following line to process all images in the specified directory\n",
    "processor.process_images()\n"
   ]
  },
  {
   "cell_type": "code",
   "execution_count": null,
   "metadata": {},
   "outputs": [],
   "source": []
  },
  {
   "cell_type": "code",
   "execution_count": null,
   "metadata": {},
   "outputs": [],
   "source": []
  }
 ],
 "metadata": {
  "kernelspec": {
   "display_name": "Python 3 (ipykernel)",
   "language": "python",
   "name": "python3"
  },
  "language_info": {
   "codemirror_mode": {
    "name": "ipython",
    "version": 3
   },
   "file_extension": ".py",
   "mimetype": "text/x-python",
   "name": "python",
   "nbconvert_exporter": "python",
   "pygments_lexer": "ipython3",
   "version": "3.10.14"
  }
 },
 "nbformat": 4,
 "nbformat_minor": 4
}
